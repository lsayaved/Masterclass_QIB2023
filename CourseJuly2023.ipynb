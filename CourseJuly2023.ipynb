{
 "cells": [
  {
   "cell_type": "markdown",
   "id": "7390e131",
   "metadata": {},
   "source": [
    "## Pre-requisites for the Microbiome day, 28th July 2023\n",
    "\n",
    "We will explore a dataset in Anvio. Please download the software.\n",
    "\n",
    "### 1. Download anvio. \n",
    "You can follow the full installation instructions (https://anvio.org/install/#4-check-your-installation), but they often fail. This is why we will use a Docker container:\n",
    "\n",
    "- 1.1. Install docker in your mac. If you have a M1/M2 chip, please run:\n",
    "````bash\n",
    "softwareupdate --install-rosetta\n",
    "````\n",
    "\n",
    "- 1.2 Download docker installer for mac:\n",
    "https://docs.docker.com/desktop/install/mac-install/\n",
    "\n",
    "- 1.3 From the terminal, download anvio using docker\n",
    "````bash\n",
    "docker pull meren/anvio:7.1_main_0522\n",
    "````\n"
   ]
  },
  {
   "cell_type": "markdown",
   "id": "299ba8db",
   "metadata": {},
   "source": [
    "### 2. Run docker and visualize the database\n",
    "\n",
    "\n",
    "Paper:\n",
    "\n",
    "https://genomebiology.biomedcentral.com/articles/10.1186/s13059-023-02924-x\n",
    "\n",
    "Full datasets:\n",
    "\n",
    "https://merenlab.org/data/fmt-gut-colonization/\n",
    "\n",
    "- Download donor A data pack:\n",
    "````bash\n",
    "curl -L https://ndownloader.figshare.com/files/27452192 \\\n",
    "     -o FMT_DONOR_A_AND_RECIPIENTS.tar.gz\n",
    "````\n",
    "- unpack (this should take about 30 seconds on a standard laptop and result in a directory that takes about 8Gb of storage space\n",
    "````bash\n",
    "tar -zxvf FMT_DONOR_A_AND_RECIPIENTS.tar.gz\n",
    "````\n",
    "- go into the directory:\n",
    "````bash\n",
    "cd FMT_DONOR_A_AND_RECIPIENTS\n",
    "````\n",
    "- make sure you have all the files:\n",
    "````bash\n",
    "ls -l\n",
    "````\n",
    "\n",
    "- Open docker, then open a terminal and type:\n",
    "````bash\n",
    "docker run --rm -it -v `pwd`:`pwd` -w `pwd` -p 8080:8080 meren/anvio:7.1_main_0522\n",
    "````\n",
    "\n",
    "- migrate the data to the newest version of anvio\n",
    "\n",
    "````bash\n",
    "anvi-migrate --migrate-dbs-safely *.db\n",
    "````"
   ]
  },
  {
   "attachments": {},
   "cell_type": "markdown",
   "id": "622d8b16",
   "metadata": {},
   "source": [
    "### 3. Let's play with Anvio\n",
    "\n",
    "- show collections of files:\n",
    "````bash\n",
    "anvi-show-collections-and-bins -p PROFILE.db\n",
    "````\n",
    "- Make not of one of the genomes for later, e.g. \n",
    "DA_MAG_00002\n",
    "\n",
    "- Visualize the coverage of each of the contigs of this MAG\n",
    "````bash\n",
    "anvi-refine --profile-db PROFILE.db \\\n",
    "            --contigs-db CONTIGS.db \\\n",
    "            --collection-name default \\\n",
    "            --bin-id DA_MAG_00002\n",
    "````\n",
    " You will see your results in a web browser using the port http://0.0.0.0:8080\n",
    "\n",
    "- Visualize all the genomes from donor A, when transplanted and in the original donor. It will take some moements to load\n",
    "````bash\n",
    "anvi-interactive --profile-db PROFILE.db \\\n",
    "                 --contigs-db CONTIGS.db \\\n",
    "                 --collection-name default \\\n",
    "                 --additional-layers MAGs-additional-data.txt \\\n",
    "                 --tree MAGs-order-by-detection.newick\n",
    "````\n"
   ]
  },
  {
   "cell_type": "markdown",
   "id": "5b1cb0f4",
   "metadata": {},
   "source": [
    "\n",
    "## Questions:\n",
    "\n",
    "### a) From a randomly selected single genome:\n",
    "\n",
    "1. Can you identify the taxonomic classification, the completeness and the redundancy (contamination)?\n",
    "\n",
    "### b) From the whole collection:\n",
    "1.  Can you change the taxonomic level displayed?\n",
    "2. What are the dominant taxa at the phylum level for the FMT donor?\n",
    "3. What are the dominant taxa for the recipients before and after FMT (phylum level)?"
   ]
  }
 ],
 "metadata": {
  "kernelspec": {
   "display_name": "Python 3 (ipykernel)",
   "language": "python",
   "name": "python3"
  },
  "language_info": {
   "codemirror_mode": {
    "name": "ipython",
    "version": 3
   },
   "file_extension": ".py",
   "mimetype": "text/x-python",
   "name": "python",
   "nbconvert_exporter": "python",
   "pygments_lexer": "ipython3",
   "version": "3.9.6"
  }
 },
 "nbformat": 4,
 "nbformat_minor": 5
}
